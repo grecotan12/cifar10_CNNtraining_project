{
 "cells": [
  {
   "cell_type": "code",
   "execution_count": 10,
   "id": "8520a04d-f04b-4298-8183-410e05099d26",
   "metadata": {},
   "outputs": [],
   "source": [
    "from torchvision.datasets import ImageFolder\n",
    "from torchvision import transforms\n",
    "from torch.utils.data import Dataset, Subset, DataLoader\n",
    "from sklearn.model_selection import train_test_split\n",
    "import numpy as np\n",
    "import torch.optim as optim\n",
    "import torch.nn as nn\n",
    "import torch# Build the CNN\n",
    "class CnnCifar(nn.Module):\n",
    "    def __init__(self, num_classes=10):\n",
    "        super().__init__()\n",
    "        self.feature_extractor = nn.Sequential(\n",
    "            nn.Conv2d(3, 64, kernel_size=3, stride=1, padding=1), # B4. Padding in each CONV layer\n",
    "            nn.BatchNorm2d(64),\n",
    "            nn.LeakyReLU(negative_slope=0.01),\n",
    "            nn.MaxPool2d(kernel_size=2),\n",
    "            nn.Conv2d(64, 128, kernel_size=3, stride=1, padding=1), # B4. Padding in each CONV layer\n",
    "            nn.BatchNorm2d(128),\n",
    "            nn.LeakyReLU(negative_slope=0.01),\n",
    "            nn.MaxPool2d(kernel_size=2),\n",
    "            nn.AdaptiveAvgPool2d(1),\n",
    "            nn.Flatten(),\n",
    "            nn.Dropout(0.2)\n",
    "        )\n",
    "        self.classifier = nn.Linear(128, num_classes)\n",
    "\n",
    "    def forward(self, x):\n",
    "        x = self.feature_extractor(x)\n",
    "        x = self.classifier(x)\n",
    "        return x"
   ]
  },
  {
   "cell_type": "code",
   "execution_count": 11,
   "id": "d09ecc22-1134-47a1-9d58-53acb0fcaa25",
   "metadata": {},
   "outputs": [
    {
     "name": "stdout",
     "output_type": "stream",
     "text": [
      "----------------------------------------------------------------\n",
      "        Layer (type)               Output Shape         Param #\n",
      "================================================================\n",
      "            Conv2d-1         [-1, 64, 128, 128]           1,792\n",
      "       BatchNorm2d-2         [-1, 64, 128, 128]             128\n",
      "         LeakyReLU-3         [-1, 64, 128, 128]               0\n",
      "         MaxPool2d-4           [-1, 64, 64, 64]               0\n",
      "            Conv2d-5          [-1, 128, 64, 64]          73,856\n",
      "       BatchNorm2d-6          [-1, 128, 64, 64]             256\n",
      "         LeakyReLU-7          [-1, 128, 64, 64]               0\n",
      "         MaxPool2d-8          [-1, 128, 32, 32]               0\n",
      " AdaptiveAvgPool2d-9            [-1, 128, 1, 1]               0\n",
      "          Flatten-10                  [-1, 128]               0\n",
      "          Dropout-11                  [-1, 128]               0\n",
      "           Linear-12                   [-1, 10]           1,290\n",
      "================================================================\n",
      "Total params: 77,322\n",
      "Trainable params: 77,322\n",
      "Non-trainable params: 0\n",
      "----------------------------------------------------------------\n",
      "Input size (MB): 0.19\n",
      "Forward/backward pass size (MB): 39.00\n",
      "Params size (MB): 0.29\n",
      "Estimated Total Size (MB): 39.49\n",
      "----------------------------------------------------------------\n"
     ]
    }
   ],
   "source": [
    "from torchsummary import summary\n",
    "\n",
    "cnn = CnnCifar()\n",
    "summary(cnn, input_size=(3, 128, 128))"
   ]
  },
  {
   "cell_type": "code",
   "execution_count": 12,
   "id": "4f90224d-77e0-4ee9-8cb9-f82d4ebcb4ed",
   "metadata": {},
   "outputs": [],
   "source": [
    "class CnnCifarComplex(nn.Module):\n",
    "    def __init__(self, num_classes=10):\n",
    "        super().__init__()\n",
    "        self.feature_extractor = nn.Sequential(\n",
    "            nn.Conv2d(3, 64, kernel_size=3, stride=1, padding=1), # B4. Padding in each CONV layer\n",
    "            nn.ELU(),\n",
    "            nn.MaxPool2d(kernel_size=2),\n",
    "            nn.Conv2d(64, 128, kernel_size=3, stride=1, padding=1), # B4. Padding in each CONV layer\n",
    "            nn.ELU(),\n",
    "            nn.MaxPool2d(kernel_size=2),\n",
    "            nn.Flatten(),\n",
    "        )\n",
    "        self.classifier = nn.Linear(128 * 32 * 32, num_classes)\n",
    "\n",
    "    def forward(self, x):\n",
    "        x = self.feature_extractor(x)\n",
    "        x = self.classifier(x)\n",
    "        return x"
   ]
  },
  {
   "cell_type": "code",
   "execution_count": 13,
   "id": "2ef3f387-bb93-49c2-a315-da18be2cd11f",
   "metadata": {},
   "outputs": [
    {
     "name": "stdout",
     "output_type": "stream",
     "text": [
      "----------------------------------------------------------------\n",
      "        Layer (type)               Output Shape         Param #\n",
      "================================================================\n",
      "            Conv2d-1         [-1, 64, 128, 128]           1,792\n",
      "               ELU-2         [-1, 64, 128, 128]               0\n",
      "         MaxPool2d-3           [-1, 64, 64, 64]               0\n",
      "            Conv2d-4          [-1, 128, 64, 64]          73,856\n",
      "               ELU-5          [-1, 128, 64, 64]               0\n",
      "         MaxPool2d-6          [-1, 128, 32, 32]               0\n",
      "           Flatten-7               [-1, 131072]               0\n",
      "            Linear-8                   [-1, 10]       1,310,730\n",
      "================================================================\n",
      "Total params: 1,386,378\n",
      "Trainable params: 1,386,378\n",
      "Non-trainable params: 0\n",
      "----------------------------------------------------------------\n",
      "Input size (MB): 0.19\n",
      "Forward/backward pass size (MB): 28.00\n",
      "Params size (MB): 5.29\n",
      "Estimated Total Size (MB): 33.48\n",
      "----------------------------------------------------------------\n"
     ]
    }
   ],
   "source": [
    "from torchsummary import summary\n",
    "\n",
    "cnn = CnnCifarComplex()\n",
    "summary(cnn, input_size=(3, 128, 128))"
   ]
  },
  {
   "cell_type": "code",
   "execution_count": null,
   "id": "2776c99d-da2f-4220-8354-3bb0c67504ae",
   "metadata": {},
   "outputs": [],
   "source": []
  }
 ],
 "metadata": {
  "kernelspec": {
   "display_name": "Python 3.12 TensorFlow",
   "language": "python",
   "name": "tf_env"
  },
  "language_info": {
   "codemirror_mode": {
    "name": "ipython",
    "version": 3
   },
   "file_extension": ".py",
   "mimetype": "text/x-python",
   "name": "python",
   "nbconvert_exporter": "python",
   "pygments_lexer": "ipython3",
   "version": "3.12.11"
  }
 },
 "nbformat": 4,
 "nbformat_minor": 5
}
