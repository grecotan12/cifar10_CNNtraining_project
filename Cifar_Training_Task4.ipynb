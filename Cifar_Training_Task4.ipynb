{
 "cells": [
  {
   "cell_type": "code",
   "execution_count": 1,
   "id": "bc41a029-31d1-4b4f-9fb5-fa0eb4a5195e",
   "metadata": {},
   "outputs": [
    {
     "name": "stdout",
     "output_type": "stream",
     "text": [
      "privateuseone:0\n"
     ]
    }
   ],
   "source": [
    "from torchvision.datasets import ImageFolder\n",
    "from torchvision import transforms\n",
    "from torch.utils.data import Dataset, Subset, DataLoader\n",
    "from sklearn.model_selection import train_test_split\n",
    "import numpy as np\n",
    "import torch.optim as optim\n",
    "import torch.nn as nn\n",
    "import torch\n",
    "import torch_directml\n",
    "dml = torch_directml.device()\n",
    "print(dml)"
   ]
  },
  {
   "cell_type": "code",
   "execution_count": 2,
   "id": "d052238d-2fea-4786-8c1c-a0f86100c88a",
   "metadata": {},
   "outputs": [],
   "source": [
    "# Load the dataset with data augmentation and normalizing\n",
    "class Cifar10(Dataset):\n",
    "    def __init__(self):\n",
    "        super().__init__()\n",
    "        transform_train = transforms.Compose([\n",
    "            transforms.RandomHorizontalFlip(),\n",
    "            transforms.RandomRotation(15),\n",
    "            transforms.RandomAutocontrast(),\n",
    "            transforms.ToTensor(),\n",
    "            transforms.Resize((128, 128)), # B2 for resizing image\n",
    "            transforms.Normalize(mean=[0.4854, 0.4567, 0.4062], std=[0.2291, 0.2249, 0.2253])\n",
    "        ])\n",
    "        self.data = ImageFolder(\"clean_train\", transform=transform_train)\n",
    "\n",
    "    def __len__(self):\n",
    "        return self.data.__len__()\n",
    "\n",
    "    def __getitem__(self, idx):\n",
    "        features, label = self.data[idx]\n",
    "        return features, label\n",
    "\n",
    "    def split_data(self):\n",
    "        indices = np.arange(len(self.data))\n",
    "        targets = np.array(self.data.targets)\n",
    "        train_indices, val_indices = train_test_split(indices,\n",
    "                                                       test_size=0.2,\n",
    "                                                       random_state=42,\n",
    "                                                       stratify=targets)\n",
    "        final_train_set = Subset(self.data, train_indices)\n",
    "        final_val_set = Subset(self.data, val_indices)\n",
    "        return final_train_set, final_val_set\n",
    "        \n",
    "train_data = Cifar10()\n",
    "# Split the dataset\n",
    "train_set, val_set = train_data.split_data()"
   ]
  },
  {
   "cell_type": "code",
   "execution_count": 3,
   "id": "3a837762-51d0-431d-b4cd-1a102a7a3d8b",
   "metadata": {},
   "outputs": [],
   "source": [
    "# Build the CNN\n",
    "class CnnCifar(nn.Module):\n",
    "    def __init__(self, num_classes=10):\n",
    "        super().__init__()\n",
    "        self.feature_extractor = nn.Sequential(\n",
    "            nn.Conv2d(3, 64, kernel_size=3, stride=1, padding=1), # B4. Padding in each CONV layer\n",
    "            nn.BatchNorm2d(64),\n",
    "            nn.LeakyReLU(negative_slope=0.01),\n",
    "            nn.MaxPool2d(kernel_size=2),\n",
    "            nn.Conv2d(64, 128, kernel_size=3, stride=1, padding=1), # B4. Padding in each CONV layer\n",
    "            nn.BatchNorm2d(128),\n",
    "            nn.LeakyReLU(negative_slope=0.01),\n",
    "            nn.MaxPool2d(kernel_size=2),\n",
    "            nn.AdaptiveAvgPool2d(1),\n",
    "            nn.Flatten(),\n",
    "            nn.Dropout(0.2)\n",
    "        )\n",
    "        self.classifier = nn.Linear(128, num_classes)\n",
    "\n",
    "    def forward(self, x):\n",
    "        x = self.feature_extractor(x)\n",
    "        x = self.classifier(x)\n",
    "        return x"
   ]
  },
  {
   "cell_type": "code",
   "execution_count": 4,
   "id": "78c2f0e9-ee02-479f-bef2-ee7ad522c900",
   "metadata": {},
   "outputs": [],
   "source": [
    "class EarlyStopping:\n",
    "    def __init__(self, patience, delta):\n",
    "        self.patience = patience\n",
    "        self.delta = delta\n",
    "        self.best_score = None\n",
    "        self.early_stop = False\n",
    "        self.counter = 0\n",
    "        self.best_model_state = None\n",
    "\n",
    "    def __call__(self, model, val_loss):\n",
    "        score = -val_loss\n",
    "\n",
    "        # If there is no best score then it's current best score\n",
    "        if self.best_score is None:\n",
    "            self.best_score = score\n",
    "            self.best_model_state = model.state_dict()\n",
    "\n",
    "        curr_score = self.best_score + self.delta\n",
    "        if score < curr_score:\n",
    "            self.counter += 1\n",
    "            if self.counter >= self.patience:\n",
    "                self.early_stop = True\n",
    "        elif score > curr_score:\n",
    "            self.best_score = score\n",
    "            self.best_model_state = model.state_dict()\n",
    "            self.counter = 0\n",
    "\n",
    "    def get_best_model(self, model):\n",
    "        model.load_state_dict(self.best_model_state)"
   ]
  }
 ],
 "metadata": {
  "kernelspec": {
   "display_name": "Python 3.12 TensorFlow",
   "language": "python",
   "name": "tf_env"
  },
  "language_info": {
   "codemirror_mode": {
    "name": "ipython",
    "version": 3
   },
   "file_extension": ".py",
   "mimetype": "text/x-python",
   "name": "python",
   "nbconvert_exporter": "python",
   "pygments_lexer": "ipython3",
   "version": "3.12.11"
  }
 },
 "nbformat": 4,
 "nbformat_minor": 5
}
