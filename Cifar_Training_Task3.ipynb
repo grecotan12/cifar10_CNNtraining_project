{
 "cells": [
  {
   "cell_type": "raw",
   "id": "833b531c-7664-45b8-88f5-a4fdecb4850c",
   "metadata": {},
   "source": [
    "Python Version: 3.12"
   ]
  },
  {
   "cell_type": "code",
   "execution_count": 1,
   "id": "e57d62ba-131e-4c66-918a-0cb32610430e",
   "metadata": {},
   "outputs": [],
   "source": [
    "from torchvision.datasets import ImageFolder\n",
    "from torchvision import transforms\n",
    "from torch.utils.data import Dataset, Subset, DataLoader\n",
    "from sklearn.model_selection import train_test_split\n",
    "import numpy as np\n",
    "import torch.optim as optim\n",
    "import torch.nn as nn\n",
    "import torch"
   ]
  },
  {
   "cell_type": "code",
   "execution_count": 2,
   "id": "dc19d63c-313f-4478-acb6-9f7737767f82",
   "metadata": {},
   "outputs": [
    {
     "name": "stdout",
     "output_type": "stream",
     "text": [
      "privateuseone:0\n"
     ]
    }
   ],
   "source": [
    "import torch_directml\n",
    "dml = torch_directml.device()\n",
    "print(dml)"
   ]
  },
  {
   "cell_type": "code",
   "execution_count": 3,
   "id": "f4b93b02-15e1-4710-94ea-66f893b16e78",
   "metadata": {},
   "outputs": [],
   "source": [
    "# Load the dataset with data augmentation and normalizing\n",
    "class Cifar10(Dataset):\n",
    "    def __init__(self):\n",
    "        super().__init__()\n",
    "        transform_train = transforms.Compose([\n",
    "            transforms.RandomHorizontalFlip(),\n",
    "            transforms.RandomRotation(15),\n",
    "            transforms.RandomAutocontrast(),\n",
    "            transforms.ToTensor(),\n",
    "            transforms.Resize((128, 128)), # B2 for resizing image\n",
    "            transforms.Normalize(mean=[0.4854, 0.4567, 0.4062], std=[0.2291, 0.2249, 0.2253])\n",
    "        ])\n",
    "        self.data = ImageFolder(\"clean_train\", transform=transform_train)\n",
    "\n",
    "    def __len__(self):\n",
    "        return self.data.__len__()\n",
    "\n",
    "    def __getitem__(self, idx):\n",
    "        features, label = self.data[idx]\n",
    "        return features, label\n",
    "\n",
    "    def split_data(self):\n",
    "        indices = np.arange(len(self.data))\n",
    "        targets = np.array(self.data.targets)\n",
    "        train_indices, val_indices = train_test_split(indices,\n",
    "                                                       test_size=0.2,\n",
    "                                                       random_state=42,\n",
    "                                                       stratify=targets)\n",
    "        final_train_set = Subset(self.data, train_indices)\n",
    "        final_val_set = Subset(self.data, val_indices)\n",
    "        return final_train_set, final_val_set\n",
    "        \n",
    "train_data = Cifar10()"
   ]
  },
  {
   "cell_type": "code",
   "execution_count": 4,
   "id": "e8ea923a-60c2-42f6-9b7d-a7cd1e13f192",
   "metadata": {},
   "outputs": [],
   "source": [
    "# Split the dataset\n",
    "train_set, val_set = train_data.split_data()"
   ]
  },
  {
   "cell_type": "code",
   "execution_count": 5,
   "id": "a3b311e2-ffe1-4db9-a0a3-636a2861a249",
   "metadata": {},
   "outputs": [],
   "source": [
    "# Build the CNN\n",
    "class CnnCifar(nn.Module):\n",
    "    def __init__(self, num_classes=10):\n",
    "        super().__init__()\n",
    "        self.feature_extractor = nn.Sequential(\n",
    "            nn.Conv2d(3, 64, kernel_size=3, stride=1, padding=1), # B4. Padding in each CONV layer\n",
    "            nn.BatchNorm2d(64),\n",
    "            nn.LeakyReLU(negative_slope=0.01),\n",
    "            nn.MaxPool2d(kernel_size=2),\n",
    "            nn.Conv2d(64, 128, kernel_size=3, stride=1, padding=1), # B4. Padding in each CONV layer\n",
    "            nn.BatchNorm2d(128),\n",
    "            nn.LeakyReLU(negative_slope=0.01),\n",
    "            nn.MaxPool2d(kernel_size=2),\n",
    "            nn.AdaptiveAvgPool2d(1),\n",
    "            nn.Flatten(),\n",
    "            nn.Dropout(0.2)\n",
    "        )\n",
    "        self.classifier = nn.Linear(128, num_classes)\n",
    "\n",
    "    def forward(self, x):\n",
    "        x = self.feature_extractor(x)\n",
    "        x = self.classifier(x)\n",
    "        return x\n"
   ]
  },
  {
   "cell_type": "code",
   "execution_count": 6,
   "id": "8b4d697b-a15a-41a3-b9db-0b5d0bc50a0c",
   "metadata": {},
   "outputs": [
    {
     "name": "stderr",
     "output_type": "stream",
     "text": [
      "C:\\Users\\ancho\\anaconda3\\envs\\tf_env\\Lib\\site-packages\\torch\\optim\\adam.py:534: UserWarning: The operator 'aten::lerp.Scalar_out' is not currently supported on the DML backend and will fall back to run on the CPU. This may have performance implications. (Triggered internally at C:\\__w\\1\\s\\pytorch-directml-plugin\\torch_directml\\csrc\\dml\\dml_cpu_fallback.cpp:17.)\n",
      "  torch._foreach_lerp_(device_exp_avgs, device_grads, 1 - beta1)\n"
     ]
    },
    {
     "name": "stdout",
     "output_type": "stream",
     "text": [
      "Epoch [1/30], Loss: 1.969\n",
      "Epoch [2/30], Loss: 1.82\n",
      "Epoch [3/30], Loss: 1.763\n",
      "Epoch [4/30], Loss: 1.729\n",
      "Epoch [5/30], Loss: 1.705\n",
      "Epoch [6/30], Loss: 1.674\n",
      "Epoch [7/30], Loss: 1.65\n",
      "Epoch [8/30], Loss: 1.626\n",
      "Epoch [9/30], Loss: 1.617\n",
      "Epoch [10/30], Loss: 1.588\n",
      "Epoch [11/30], Loss: 1.583\n",
      "Epoch [12/30], Loss: 1.571\n",
      "Epoch [13/30], Loss: 1.555\n",
      "Epoch [14/30], Loss: 1.539\n",
      "Epoch [15/30], Loss: 1.537\n",
      "Epoch [16/30], Loss: 1.522\n",
      "Epoch [17/30], Loss: 1.514\n",
      "Epoch [18/30], Loss: 1.501\n",
      "Epoch [19/30], Loss: 1.501\n",
      "Epoch [20/30], Loss: 1.495\n",
      "Epoch [21/30], Loss: 1.484\n",
      "Epoch [22/30], Loss: 1.474\n",
      "Epoch [23/30], Loss: 1.465\n",
      "Epoch [24/30], Loss: 1.458\n",
      "Epoch [25/30], Loss: 1.456\n",
      "Epoch [26/30], Loss: 1.449\n",
      "Epoch [27/30], Loss: 1.445\n",
      "Epoch [28/30], Loss: 1.44\n",
      "Epoch [29/30], Loss: 1.438\n",
      "Epoch [30/30], Loss: 1.431\n",
      "Saving baseline model so no need to retrain anymore.\n"
     ]
    }
   ],
   "source": [
    "# Feed training data into the model\n",
    "batch_size = 128\n",
    "train_load = DataLoader(train_set, shuffle=True,  batch_size=batch_size,\n",
    "                        num_workers=4, pin_memory=True, persistent_workers=True)\n",
    "val_load   = DataLoader(val_set,   shuffle=False, batch_size=batch_size,\n",
    "                        num_workers=4, pin_memory=True, persistent_workers=True)\n",
    "cnn = CnnCifar().to(dml)\n",
    "criterion = nn.CrossEntropyLoss().to(dml)\n",
    "optimizer = optim.Adam(cnn.parameters(), lr=0.001)\n",
    "\n",
    "for epoch in range(30):\n",
    "    run_amount = 0\n",
    "    for images, labels in train_load:\n",
    "        images = images.to(memory_format=torch.channels_last).to(dml, non_blocking=True)\n",
    "        labels = labels.to(dml, non_blocking=True)\n",
    "        \n",
    "        optimizer.zero_grad()\n",
    "        outputs = cnn(images)\n",
    "        loss = criterion(outputs, labels)\n",
    "        loss.backward()\n",
    "        optimizer.step()\n",
    "\n",
    "        run_amount += loss.item()\n",
    "    avg_loss = run_amount / len(train_load)\n",
    "    print(f\"Epoch [{epoch+1}/30], Loss: {avg_loss:.4}\")\n",
    "\n",
    "print(\"Saving baseline model so no need to retrain anymore.\")\n",
    "path = \"./cnn_cifar_base.pth\"\n",
    "torch.save(cnn.state_dict(), path)"
   ]
  },
  {
   "cell_type": "code",
   "execution_count": 7,
   "id": "177c21bd-c351-47ed-aef8-b813b22d8df0",
   "metadata": {},
   "outputs": [
    {
     "name": "stdout",
     "output_type": "stream",
     "text": [
      "{'airplane': 0.534000039100647, 'automobile': 0.6160000562667847, 'bird': 0.47700002789497375, 'cat': 0.37700000405311584, 'deer': 0.2750000059604645, 'dog': 0.38200002908706665, 'frog': 0.6990000605583191, 'horse': 0.5520000457763672, 'ship': 0.6520000100135803, 'truck': 0.6340000033378601}\n",
      "{'airplane': 0.5585774183273315, 'automobile': 0.5767790079116821, 'bird': 0.3638443946838379, 'cat': 0.37252965569496155, 'deer': 0.5478087663650513, 'dog': 0.5268965363502502, 'frog': 0.5659918785095215, 'horse': 0.5696594715118408, 'ship': 0.5863309502601624, 'truck': 0.5711711645126343}\n"
     ]
    }
   ],
   "source": [
    "# Evaluate\n",
    "from torchmetrics import Recall, Precision\n",
    "\n",
    "cnn.eval()\n",
    "metric_recall = Recall(\n",
    "    task = \"multiclass\", num_classes=10, average=None\n",
    ").to(dml)\n",
    "\n",
    "metric_precision = Precision(\n",
    "    task = \"multiclass\", num_classes=10, average=None\n",
    ").to(dml)\n",
    "\n",
    "with torch.no_grad():\n",
    "    for images, labels in val_load:\n",
    "        images = images.to(memory_format=torch.channels_last).to(dml, non_blocking=True)\n",
    "        labels = labels.to(dml, non_blocking=True)\n",
    "\n",
    "        outputs = cnn(images)\n",
    "        _, preds = torch.max(outputs, 1)\n",
    "\n",
    "        metric_recall(preds, labels)\n",
    "        metric_precision(preds, labels)\n",
    "\n",
    "recall = metric_recall.compute()\n",
    "precision = metric_precision.compute()\n",
    "\n",
    "recall_per_class = {\n",
    "    k: recall[v].item()\n",
    "    for k, v\n",
    "    in train_data.data.class_to_idx.items()\n",
    "}\n",
    "\n",
    "precision_per_class = {\n",
    "    k: precision[v].item()\n",
    "    for k, v\n",
    "    in train_data.data.class_to_idx.items()\n",
    "}\n",
    "\n",
    "print(recall_per_class)\n",
    "print(precision_per_class)"
   ]
  },
  {
   "cell_type": "code",
   "execution_count": 8,
   "id": "0537b349-7354-494b-8e32-b163a9d4dc40",
   "metadata": {},
   "outputs": [
    {
     "name": "stdout",
     "output_type": "stream",
     "text": [
      "tensor(0.5183, device='privateuseone:0')\n",
      "tensor(0.5234, device='privateuseone:0')\n"
     ]
    }
   ],
   "source": [
    "metric_recall_weighted = Recall(\n",
    "    task = \"multiclass\", num_classes=10, average='weighted'\n",
    ").to(dml)\n",
    "\n",
    "metric_precision_weighted = Precision(\n",
    "    task = \"multiclass\", num_classes=10, average='weighted'\n",
    ").to(dml)\n",
    "\n",
    "with torch.no_grad():\n",
    "    for images, labels in val_load:\n",
    "        images = images.to(memory_format=torch.channels_last).to(dml, non_blocking=True)\n",
    "        labels = labels.to(dml, non_blocking=True)\n",
    "\n",
    "        outputs = cnn(images)\n",
    "        _, preds = torch.max(outputs, 1)\n",
    "\n",
    "        metric_recall_weighted(preds, labels)\n",
    "        metric_precision_weighted(preds, labels)\n",
    "\n",
    "recall_weighted = metric_recall_weighted.compute()\n",
    "precision_weighted = metric_precision_weighted.compute()\n",
    "print(recall_weighted)\n",
    "print(precision_weighted)"
   ]
  },
  {
   "cell_type": "code",
   "execution_count": 9,
   "id": "aaee6e03-81e4-4497-8684-8fd2a2730b87",
   "metadata": {},
   "outputs": [
    {
     "name": "stdout",
     "output_type": "stream",
     "text": [
      "tensor(0.5235, device='privateuseone:0')\n",
      "tensor(0.5298, device='privateuseone:0')\n"
     ]
    }
   ],
   "source": [
    "metric_recall_macro = Recall(\n",
    "    task = \"multiclass\", num_classes=10, average='macro'\n",
    ").to(dml)\n",
    "\n",
    "metric_precision_macro = Precision(\n",
    "    task = \"multiclass\", num_classes=10, average='macro'\n",
    ").to(dml)\n",
    "\n",
    "with torch.no_grad():\n",
    "    for images, labels in val_load:\n",
    "        images = images.to(memory_format=torch.channels_last).to(dml, non_blocking=True)\n",
    "        labels = labels.to(dml, non_blocking=True)\n",
    "\n",
    "        outputs = cnn(images)\n",
    "        _, preds = torch.max(outputs, 1)\n",
    "\n",
    "        metric_recall_macro(preds, labels)\n",
    "        metric_precision_macro(preds, labels)\n",
    "\n",
    "recall_macro = metric_recall_macro.compute()\n",
    "precision_macro = metric_precision_macro.compute()\n",
    "print(recall_macro)\n",
    "print(precision_macro)"
   ]
  },
  {
   "cell_type": "code",
   "execution_count": 11,
   "id": "51626325-53ae-4231-9314-9764cd4457d8",
   "metadata": {},
   "outputs": [
    {
     "name": "stdout",
     "output_type": "stream",
     "text": [
      "Train Accuracy: 0.5270\n",
      "Validation Accuracy: 0.5212\n"
     ]
    }
   ],
   "source": [
    "val_correct = 0\n",
    "val_total = 0\n",
    "with torch.no_grad():\n",
    "    for images, labels in val_load:\n",
    "        images = images.to(memory_format=torch.channels_last).to(dml, non_blocking=True)\n",
    "        labels = labels.to(dml, non_blocking=True)\n",
    "\n",
    "        outputs = cnn(images)\n",
    "        _, preds = torch.max(outputs, 1)\n",
    "\n",
    "        val_correct += (preds == labels).sum().item()\n",
    "        val_total += labels.size(0)\n",
    "val_accuracy = val_correct / val_total\n",
    "\n",
    "train_correct = 0\n",
    "train_total = 0\n",
    "with torch.no_grad():\n",
    "     for images, labels in train_load:\n",
    "        images = images.to(memory_format=torch.channels_last).to(dml, non_blocking=True)\n",
    "        labels = labels.to(dml, non_blocking=True)\n",
    "\n",
    "        outputs = cnn(images)\n",
    "        _, preds = torch.max(outputs, 1)\n",
    "\n",
    "        train_correct += (preds == labels).sum().item()\n",
    "        train_total += labels.size(0)\n",
    "train_accuracy = train_correct / train_total\n",
    "\n",
    "print(f'Train Accuracy: {train_accuracy:.4f}')\n",
    "print(f'Validation Accuracy: {val_accuracy:.4f}')"
   ]
  }
 ],
 "metadata": {
  "kernelspec": {
   "display_name": "Python 3.12 TensorFlow",
   "language": "python",
   "name": "tf_env"
  },
  "language_info": {
   "codemirror_mode": {
    "name": "ipython",
    "version": 3
   },
   "file_extension": ".py",
   "mimetype": "text/x-python",
   "name": "python",
   "nbconvert_exporter": "python",
   "pygments_lexer": "ipython3",
   "version": "3.12.11"
  }
 },
 "nbformat": 4,
 "nbformat_minor": 5
}
