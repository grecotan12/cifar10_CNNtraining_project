{
 "cells": [
  {
   "cell_type": "raw",
   "id": "833b531c-7664-45b8-88f5-a4fdecb4850c",
   "metadata": {},
   "source": [
    "Python Version: 3.12"
   ]
  },
  {
   "cell_type": "code",
   "execution_count": 1,
   "id": "e57d62ba-131e-4c66-918a-0cb32610430e",
   "metadata": {},
   "outputs": [],
   "source": [
    "from torchvision.datasets import ImageFolder\n",
    "from torchvision import transforms\n",
    "from torch.utils.data import Dataset, Subset, DataLoader\n",
    "from sklearn.model_selection import train_test_split\n",
    "import numpy as np\n",
    "import torch.optim as optim"
   ]
  },
  {
   "cell_type": "code",
   "execution_count": 2,
   "id": "dc19d63c-313f-4478-acb6-9f7737767f82",
   "metadata": {},
   "outputs": [
    {
     "name": "stdout",
     "output_type": "stream",
     "text": [
      "privateuseone:0\n"
     ]
    }
   ],
   "source": [
    "import torch_directml\n",
    "dml = torch_directml.device()\n",
    "print(dml)"
   ]
  },
  {
   "cell_type": "code",
   "execution_count": 3,
   "id": "f4b93b02-15e1-4710-94ea-66f893b16e78",
   "metadata": {},
   "outputs": [],
   "source": [
    "# Load the dataset with data augmentation and normalizing\n",
    "class Cifar10(Dataset):\n",
    "    def __init__(self):\n",
    "        super().__init__()\n",
    "        transform_train = transforms.Compose([\n",
    "            transforms.RandomHorizontalFlip(),\n",
    "            transforms.RandomRotation(15),\n",
    "            transforms.RandomAutocontrast(),\n",
    "            transforms.ToTensor(),\n",
    "            transforms.Resize((128, 128)), # B2 for resizing image\n",
    "            transforms.Normalize(mean=[0.4854, 0.4567, 0.4062], std=[0.2291, 0.2249, 0.2253])\n",
    "        ])\n",
    "        self.data = ImageFolder(\"clean_train\", transform=transform_train)\n",
    "\n",
    "    def __len__(self):\n",
    "        return self.data.__len__()\n",
    "\n",
    "    def __getitem__(self, idx):\n",
    "        features, label = self.data[idx]\n",
    "        return features, label\n",
    "\n",
    "    def split_data(self):\n",
    "        indices = np.arange(len(self.data))\n",
    "        targets = np.array(self.data.targets)\n",
    "        train_indices, val_indices = train_test_split(indices,\n",
    "                                                       test_size=0.2,\n",
    "                                                       random_state=42,\n",
    "                                                       stratify=targets)\n",
    "        final_train_set = Subset(self.data, train_indices)\n",
    "        final_val_set = Subset(self.data, val_indices)\n",
    "        return final_train_set, final_val_set\n",
    "        \n",
    "train_data = Cifar10()"
   ]
  },
  {
   "cell_type": "code",
   "execution_count": 4,
   "id": "e8ea923a-60c2-42f6-9b7d-a7cd1e13f192",
   "metadata": {},
   "outputs": [],
   "source": [
    "# Split the dataset\n",
    "train_set, val_set = train_data.split_data()"
   ]
  },
  {
   "cell_type": "code",
   "execution_count": 5,
   "id": "a3b311e2-ffe1-4db9-a0a3-636a2861a249",
   "metadata": {},
   "outputs": [],
   "source": [
    "# Build the CNN\n",
    "import torch.nn as nn\n",
    "\n",
    "class CnnCifar(nn.Module):\n",
    "    def __init__(self, num_classes=10):\n",
    "        super().__init__()\n",
    "        self.feature_extractor = nn.Sequential(\n",
    "            nn.Conv2d(3, 64, kernel_size=3, stride=1, padding=1), # B4. Padding in each CONV layer\n",
    "            nn.ELU(),\n",
    "            nn.MaxPool2d(kernel_size=2),\n",
    "            nn.Conv2d(64, 128, kernel_size=3, stride=1, padding=1), # B4. Padding in each CONV layer\n",
    "            nn.ELU(),\n",
    "            nn.MaxPool2d(kernel_size=2),\n",
    "            nn.Flatten(),\n",
    "        )\n",
    "        self.classifier = nn.Linear(128 * 32 * 32, num_classes)\n",
    "\n",
    "    def forward(self, x):\n",
    "        x = self.feature_extractor(x)\n",
    "        x = self.classifier(x)\n",
    "        return x\n"
   ]
  },
  {
   "cell_type": "code",
   "execution_count": 6,
   "id": "8b4d697b-a15a-41a3-b9db-0b5d0bc50a0c",
   "metadata": {},
   "outputs": [
    {
     "name": "stderr",
     "output_type": "stream",
     "text": [
      "C:\\Users\\ancho\\anaconda3\\envs\\tf_env\\Lib\\site-packages\\torch\\nn\\functional.py:1593: UserWarning: The operator 'aten::elu.out' is not currently supported on the DML backend and will fall back to run on the CPU. This may have performance implications. (Triggered internally at C:\\__w\\1\\s\\pytorch-directml-plugin\\torch_directml\\csrc\\dml\\dml_cpu_fallback.cpp:17.)\n",
      "  result = torch._C._nn.elu(input, alpha)\n"
     ]
    },
    {
     "name": "stdout",
     "output_type": "stream",
     "text": [
      "Epoch [1/10], Loss: 1.846\n",
      "Epoch [2/10], Loss: 1.5\n",
      "Epoch [3/10], Loss: 1.431\n",
      "Epoch [4/10], Loss: 1.382\n",
      "Epoch [5/10], Loss: 1.346\n",
      "Epoch [6/10], Loss: 1.316\n",
      "Epoch [7/10], Loss: 1.289\n",
      "Epoch [8/10], Loss: 1.271\n",
      "Epoch [9/10], Loss: 1.262\n",
      "Epoch [10/10], Loss: 1.257\n"
     ]
    }
   ],
   "source": [
    "# Feed training data into the model\n",
    "import torch\n",
    "batch_size = 128\n",
    "train_load = DataLoader(train_set, shuffle=True,  batch_size=batch_size,\n",
    "                        num_workers=4, pin_memory=True, persistent_workers=True)\n",
    "val_load   = DataLoader(val_set,   shuffle=False, batch_size=batch_size,\n",
    "                        num_workers=4, pin_memory=True, persistent_workers=True)\n",
    "cnn = CnnCifar().to(dml)\n",
    "criterion = nn.CrossEntropyLoss().to(dml)\n",
    "optimizer = optim.Adam(cnn.parameters(), lr=0.001)\n",
    "\n",
    "for epoch in range(10):\n",
    "    run_amount = 0\n",
    "    for images, labels in train_load:\n",
    "        images = images.to(memory_format=torch.channels_last).to(dml, non_blocking=True)\n",
    "        labels = labels.to(dml, non_blocking=True)\n",
    "        \n",
    "        optimizer.zero_grad()\n",
    "        outputs = cnn(images)\n",
    "        loss = criterion(outputs, labels)\n",
    "        loss.backward()\n",
    "        optimizer.step()\n",
    "\n",
    "        run_amount += loss.item()\n",
    "    avg_loss = run_amount / len(train_load)\n",
    "    print(f\"Epoch [{epoch+1}/10], Loss: {avg_loss:.4}\")"
   ]
  },
  {
   "cell_type": "code",
   "execution_count": 7,
   "id": "177c21bd-c351-47ed-aef8-b813b22d8df0",
   "metadata": {},
   "outputs": [],
   "source": [
    "# Evaluate"
   ]
  }
 ],
 "metadata": {
  "kernelspec": {
   "display_name": "Python 3.12 TensorFlow",
   "language": "python",
   "name": "tf_env"
  },
  "language_info": {
   "codemirror_mode": {
    "name": "ipython",
    "version": 3
   },
   "file_extension": ".py",
   "mimetype": "text/x-python",
   "name": "python",
   "nbconvert_exporter": "python",
   "pygments_lexer": "ipython3",
   "version": "3.12.11"
  }
 },
 "nbformat": 4,
 "nbformat_minor": 5
}
