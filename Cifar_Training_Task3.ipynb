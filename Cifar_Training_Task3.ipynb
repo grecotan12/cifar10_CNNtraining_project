{
 "cells": [
  {
   "cell_type": "raw",
   "id": "833b531c-7664-45b8-88f5-a4fdecb4850c",
   "metadata": {},
   "source": [
    "Python Version: 3.12"
   ]
  },
  {
   "cell_type": "code",
   "execution_count": 1,
   "id": "e57d62ba-131e-4c66-918a-0cb32610430e",
   "metadata": {},
   "outputs": [],
   "source": [
    "from torchvision.datasets import ImageFolder\n",
    "from torchvision import transforms\n",
    "from torch.utils.data import Dataset, Subset, DataLoader\n",
    "from sklearn.model_selection import train_test_split\n",
    "import numpy as np\n",
    "import torch.optim as optim\n",
    "import torch.nn as nn\n",
    "import torch"
   ]
  },
  {
   "cell_type": "code",
   "execution_count": 2,
   "id": "dc19d63c-313f-4478-acb6-9f7737767f82",
   "metadata": {},
   "outputs": [
    {
     "name": "stdout",
     "output_type": "stream",
     "text": [
      "privateuseone:0\n"
     ]
    }
   ],
   "source": [
    "import torch_directml\n",
    "dml = torch_directml.device()\n",
    "print(dml)"
   ]
  },
  {
   "cell_type": "code",
   "execution_count": 3,
   "id": "f4b93b02-15e1-4710-94ea-66f893b16e78",
   "metadata": {},
   "outputs": [],
   "source": [
    "# Load the dataset with data augmentation and normalizing\n",
    "class Cifar10(Dataset):\n",
    "    def __init__(self):\n",
    "        super().__init__()\n",
    "        transform_train = transforms.Compose([\n",
    "            transforms.RandomHorizontalFlip(),\n",
    "            transforms.RandomRotation(15),\n",
    "            transforms.RandomAutocontrast(),\n",
    "            transforms.ToTensor(),\n",
    "            transforms.Resize((128, 128)), # B2 for resizing image\n",
    "            transforms.Normalize(mean=[0.4854, 0.4567, 0.4062], std=[0.2291, 0.2249, 0.2253])\n",
    "        ])\n",
    "        self.data = ImageFolder(\"clean_train\", transform=transform_train)\n",
    "\n",
    "    def __len__(self):\n",
    "        return self.data.__len__()\n",
    "\n",
    "    def __getitem__(self, idx):\n",
    "        features, label = self.data[idx]\n",
    "        return features, label\n",
    "\n",
    "    def split_data(self):\n",
    "        indices = np.arange(len(self.data))\n",
    "        targets = np.array(self.data.targets)\n",
    "        train_indices, val_indices = train_test_split(indices,\n",
    "                                                       test_size=0.2,\n",
    "                                                       random_state=42,\n",
    "                                                       stratify=targets)\n",
    "        final_train_set = Subset(self.data, train_indices)\n",
    "        final_val_set = Subset(self.data, val_indices)\n",
    "        return final_train_set, final_val_set\n",
    "        \n",
    "train_data = Cifar10()"
   ]
  },
  {
   "cell_type": "code",
   "execution_count": 4,
   "id": "e8ea923a-60c2-42f6-9b7d-a7cd1e13f192",
   "metadata": {},
   "outputs": [],
   "source": [
    "# Split the dataset\n",
    "train_set, val_set = train_data.split_data()"
   ]
  },
  {
   "cell_type": "code",
   "execution_count": 5,
   "id": "a3b311e2-ffe1-4db9-a0a3-636a2861a249",
   "metadata": {},
   "outputs": [],
   "source": [
    "# Build the CNN\n",
    "class CnnCifar(nn.Module):\n",
    "    def __init__(self, num_classes=10):\n",
    "        super().__init__()\n",
    "        self.feature_extractor = nn.Sequential(\n",
    "            nn.Conv2d(3, 64, kernel_size=3, stride=1, padding=1), # B4. Padding in each CONV layer\n",
    "            nn.BatchNorm2d(64),\n",
    "            nn.LeakyReLU(negative_slope=0.01),\n",
    "            nn.MaxPool2d(kernel_size=2),\n",
    "            nn.Conv2d(64, 128, kernel_size=3, stride=1, padding=1), # B4. Padding in each CONV layer\n",
    "            nn.BatchNorm2d(128),\n",
    "            nn.LeakyReLU(negative_slope=0.01),\n",
    "            nn.MaxPool2d(kernel_size=2),\n",
    "            nn.AdaptiveAvgPool2d(1),\n",
    "            nn.Flatten(),\n",
    "            nn.Dropout(0.2)\n",
    "        )\n",
    "        self.classifier = nn.Linear(128, num_classes)\n",
    "\n",
    "    def forward(self, x):\n",
    "        x = self.feature_extractor(x)\n",
    "        x = self.classifier(x)\n",
    "        return x\n"
   ]
  },
  {
   "cell_type": "code",
   "execution_count": 6,
   "id": "8b4d697b-a15a-41a3-b9db-0b5d0bc50a0c",
   "metadata": {},
   "outputs": [
    {
     "name": "stderr",
     "output_type": "stream",
     "text": [
      "C:\\Users\\ancho\\anaconda3\\envs\\tf_env\\Lib\\site-packages\\torch\\optim\\adam.py:534: UserWarning: The operator 'aten::lerp.Scalar_out' is not currently supported on the DML backend and will fall back to run on the CPU. This may have performance implications. (Triggered internally at C:\\__w\\1\\s\\pytorch-directml-plugin\\torch_directml\\csrc\\dml\\dml_cpu_fallback.cpp:17.)\n",
      "  torch._foreach_lerp_(device_exp_avgs, device_grads, 1 - beta1)\n"
     ]
    },
    {
     "name": "stdout",
     "output_type": "stream",
     "text": [
      "Epoch [1/30], Loss: 1.952\n",
      "Epoch [2/30], Loss: 1.804\n",
      "Epoch [3/30], Loss: 1.756\n",
      "Epoch [4/30], Loss: 1.723\n",
      "Epoch [5/30], Loss: 1.698\n",
      "Epoch [6/30], Loss: 1.674\n",
      "Epoch [7/30], Loss: 1.658\n",
      "Epoch [8/30], Loss: 1.639\n",
      "Epoch [9/30], Loss: 1.614\n",
      "Epoch [10/30], Loss: 1.609\n",
      "Epoch [11/30], Loss: 1.592\n",
      "Epoch [12/30], Loss: 1.572\n",
      "Epoch [13/30], Loss: 1.557\n",
      "Epoch [14/30], Loss: 1.546\n",
      "Epoch [15/30], Loss: 1.535\n",
      "Epoch [16/30], Loss: 1.528\n",
      "Epoch [17/30], Loss: 1.519\n",
      "Epoch [18/30], Loss: 1.506\n",
      "Epoch [19/30], Loss: 1.502\n",
      "Epoch [20/30], Loss: 1.497\n",
      "Epoch [21/30], Loss: 1.488\n",
      "Epoch [22/30], Loss: 1.48\n",
      "Epoch [23/30], Loss: 1.474\n",
      "Epoch [24/30], Loss: 1.465\n",
      "Epoch [25/30], Loss: 1.466\n",
      "Epoch [26/30], Loss: 1.459\n",
      "Epoch [27/30], Loss: 1.446\n",
      "Epoch [28/30], Loss: 1.438\n",
      "Epoch [29/30], Loss: 1.442\n",
      "Epoch [30/30], Loss: 1.431\n"
     ]
    }
   ],
   "source": [
    "# Feed training data into the model\n",
    "batch_size = 128\n",
    "train_load = DataLoader(train_set, shuffle=True,  batch_size=batch_size,\n",
    "                        num_workers=4, pin_memory=True, persistent_workers=True)\n",
    "val_load   = DataLoader(val_set,   shuffle=False, batch_size=batch_size,\n",
    "                        num_workers=4, pin_memory=True, persistent_workers=True)\n",
    "cnn = CnnCifar().to(dml)\n",
    "criterion = nn.CrossEntropyLoss().to(dml)\n",
    "optimizer = optim.Adam(cnn.parameters(), lr=0.001)\n",
    "\n",
    "for epoch in range(30):\n",
    "    run_amount = 0\n",
    "    for images, labels in train_load:\n",
    "        images = images.to(memory_format=torch.channels_last).to(dml, non_blocking=True)\n",
    "        labels = labels.to(dml, non_blocking=True)\n",
    "        \n",
    "        optimizer.zero_grad()\n",
    "        outputs = cnn(images)\n",
    "        loss = criterion(outputs, labels)\n",
    "        loss.backward()\n",
    "        optimizer.step()\n",
    "\n",
    "        run_amount += loss.item()\n",
    "    avg_loss = run_amount / len(train_load)\n",
    "    print(f\"Epoch [{epoch+1}/30], Loss: {avg_loss:.4}\")"
   ]
  },
  {
   "cell_type": "code",
   "execution_count": 7,
   "id": "177c21bd-c351-47ed-aef8-b813b22d8df0",
   "metadata": {},
   "outputs": [
    {
     "name": "stdout",
     "output_type": "stream",
     "text": [
      "{'airplane': 0.5160000324249268, 'automobile': 0.6260000467300415, 'bird': 0.3720000088214874, 'cat': 0.2670000195503235, 'deer': 0.43300002813339233, 'dog': 0.5960000157356262, 'frog': 0.5630000233650208, 'horse': 0.5220000147819519, 'ship': 0.6970000267028809, 'truck': 0.6800000071525574}\n",
      "{'airplane': 0.5746102333068848, 'automobile': 0.5711678862571716, 'bird': 0.4320557415485382, 'cat': 0.392070472240448, 'deer': 0.48004433512687683, 'dog': 0.407382071018219, 'frog': 0.7171974778175354, 'horse': 0.5965714454650879, 'ship': 0.5847315192222595, 'truck': 0.5453087091445923}\n"
     ]
    }
   ],
   "source": [
    "# Evaluate\n",
    "from torchmetrics import Recall, Precision\n",
    "\n",
    "cnn.eval()\n",
    "metric_recall = Recall(\n",
    "    task = \"multiclass\", num_classes=10, average=None\n",
    ").to(dml)\n",
    "\n",
    "metric_precision = Precision(\n",
    "    task = \"multiclass\", num_classes=10, average=None\n",
    ").to(dml)\n",
    "\n",
    "with torch.no_grad():\n",
    "    for images, labels in val_load:\n",
    "        images = images.to(memory_format=torch.channels_last).to(dml, non_blocking=True)\n",
    "        labels = labels.to(dml, non_blocking=True)\n",
    "\n",
    "        outputs = cnn(images)\n",
    "        _, preds = torch.max(outputs, 1)\n",
    "\n",
    "        metric_recall(preds, labels)\n",
    "        metric_precision(preds, labels)\n",
    "\n",
    "recall = metric_recall.compute()\n",
    "precision = metric_precision.compute()\n",
    "\n",
    "recall_per_class = {\n",
    "    k: recall[v].item()\n",
    "    for k, v\n",
    "    in train_data.data.class_to_idx.items()\n",
    "}\n",
    "\n",
    "precision_per_class = {\n",
    "    k: precision[v].item()\n",
    "    for k, v\n",
    "    in train_data.data.class_to_idx.items()\n",
    "}\n",
    "\n",
    "print(recall_per_class)\n",
    "print(precision_per_class)"
   ]
  },
  {
   "cell_type": "code",
   "execution_count": null,
   "id": "0537b349-7354-494b-8e32-b163a9d4dc40",
   "metadata": {},
   "outputs": [],
   "source": []
  },
  {
   "cell_type": "code",
   "execution_count": null,
   "id": "aaee6e03-81e4-4497-8684-8fd2a2730b87",
   "metadata": {},
   "outputs": [],
   "source": []
  }
 ],
 "metadata": {
  "kernelspec": {
   "display_name": "Python 3.12 TensorFlow",
   "language": "python",
   "name": "tf_env"
  },
  "language_info": {
   "codemirror_mode": {
    "name": "ipython",
    "version": 3
   },
   "file_extension": ".py",
   "mimetype": "text/x-python",
   "name": "python",
   "nbconvert_exporter": "python",
   "pygments_lexer": "ipython3",
   "version": "3.12.11"
  }
 },
 "nbformat": 4,
 "nbformat_minor": 5
}
