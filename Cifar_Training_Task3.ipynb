{
 "cells": [
  {
   "cell_type": "raw",
   "id": "833b531c-7664-45b8-88f5-a4fdecb4850c",
   "metadata": {},
   "source": [
    "Python Version: 3.12"
   ]
  },
  {
   "cell_type": "code",
   "execution_count": 1,
   "id": "e57d62ba-131e-4c66-918a-0cb32610430e",
   "metadata": {},
   "outputs": [],
   "source": [
    "from torchvision.datasets import ImageFolder\n",
    "from torchvision import transforms\n",
    "from torch.utils.data import Dataset, Subset, DataLoader\n",
    "from sklearn.model_selection import train_test_split\n",
    "import numpy as np\n",
    "import torch.optim as optim\n",
    "import torch.nn as nn\n",
    "import torch"
   ]
  },
  {
   "cell_type": "code",
   "execution_count": 2,
   "id": "dc19d63c-313f-4478-acb6-9f7737767f82",
   "metadata": {},
   "outputs": [
    {
     "name": "stdout",
     "output_type": "stream",
     "text": [
      "privateuseone:0\n"
     ]
    }
   ],
   "source": [
    "import torch_directml\n",
    "dml = torch_directml.device()\n",
    "print(dml)"
   ]
  },
  {
   "cell_type": "code",
   "execution_count": 3,
   "id": "f4b93b02-15e1-4710-94ea-66f893b16e78",
   "metadata": {},
   "outputs": [],
   "source": [
    "# Load the dataset with data augmentation and normalizing\n",
    "class Cifar10(Dataset):\n",
    "    def __init__(self):\n",
    "        super().__init__()\n",
    "        transform_train = transforms.Compose([\n",
    "            transforms.RandomHorizontalFlip(),\n",
    "            transforms.RandomRotation(15),\n",
    "            transforms.RandomAutocontrast(),\n",
    "            transforms.ToTensor(),\n",
    "            transforms.Resize((128, 128)), # B2 for resizing image\n",
    "            transforms.Normalize(mean=[0.4854, 0.4567, 0.4062], std=[0.2291, 0.2249, 0.2253])\n",
    "        ])\n",
    "        self.data = ImageFolder(\"clean_train\", transform=transform_train)\n",
    "\n",
    "    def __len__(self):\n",
    "        return self.data.__len__()\n",
    "\n",
    "    def __getitem__(self, idx):\n",
    "        features, label = self.data[idx]\n",
    "        return features, label\n",
    "\n",
    "    def split_data(self):\n",
    "        indices = np.arange(len(self.data))\n",
    "        targets = np.array(self.data.targets)\n",
    "        train_indices, val_indices = train_test_split(indices,\n",
    "                                                       test_size=0.2,\n",
    "                                                       random_state=42,\n",
    "                                                       stratify=targets)\n",
    "        final_train_set = Subset(self.data, train_indices)\n",
    "        final_val_set = Subset(self.data, val_indices)\n",
    "        return final_train_set, final_val_set\n",
    "        \n",
    "train_data = Cifar10()"
   ]
  },
  {
   "cell_type": "code",
   "execution_count": 4,
   "id": "e8ea923a-60c2-42f6-9b7d-a7cd1e13f192",
   "metadata": {},
   "outputs": [],
   "source": [
    "# Split the dataset\n",
    "train_set, val_set = train_data.split_data()"
   ]
  },
  {
   "cell_type": "code",
   "execution_count": 5,
   "id": "a3b311e2-ffe1-4db9-a0a3-636a2861a249",
   "metadata": {},
   "outputs": [],
   "source": [
    "# Build the CNN\n",
    "class CnnCifar(nn.Module):\n",
    "    def __init__(self, num_classes=10):\n",
    "        super().__init__()\n",
    "        self.feature_extractor = nn.Sequential(\n",
    "            nn.Conv2d(3, 64, kernel_size=3, stride=1, padding=1), # B4. Padding in each CONV layer\n",
    "            nn.BatchNorm2d(64),\n",
    "            nn.LeakyReLU(negative_slope=0.01),\n",
    "            nn.MaxPool2d(kernel_size=2),\n",
    "            nn.Conv2d(64, 128, kernel_size=3, stride=1, padding=1), # B4. Padding in each CONV layer\n",
    "            nn.BatchNorm2d(128),\n",
    "            nn.LeakyReLU(negative_slope=0.01),\n",
    "            nn.MaxPool2d(kernel_size=2),\n",
    "            nn.AdaptiveAvgPool2d(1),\n",
    "            nn.Flatten(),\n",
    "            nn.Dropout(0.2)\n",
    "        )\n",
    "        self.classifier = nn.Linear(128, num_classes)\n",
    "\n",
    "    def forward(self, x):\n",
    "        x = self.feature_extractor(x)\n",
    "        x = self.classifier(x)\n",
    "        return x\n"
   ]
  },
  {
   "cell_type": "code",
   "execution_count": 6,
   "id": "8b4d697b-a15a-41a3-b9db-0b5d0bc50a0c",
   "metadata": {},
   "outputs": [
    {
     "name": "stderr",
     "output_type": "stream",
     "text": [
      "C:\\Users\\ancho\\anaconda3\\envs\\tf_env\\Lib\\site-packages\\torch\\optim\\adam.py:534: UserWarning: The operator 'aten::lerp.Scalar_out' is not currently supported on the DML backend and will fall back to run on the CPU. This may have performance implications. (Triggered internally at C:\\__w\\1\\s\\pytorch-directml-plugin\\torch_directml\\csrc\\dml\\dml_cpu_fallback.cpp:17.)\n",
      "  torch._foreach_lerp_(device_exp_avgs, device_grads, 1 - beta1)\n"
     ]
    },
    {
     "name": "stdout",
     "output_type": "stream",
     "text": [
      "Epoch [1/30], Loss: 1.952\n",
      "Epoch [2/30], Loss: 1.804\n",
      "Epoch [3/30], Loss: 1.756\n",
      "Epoch [4/30], Loss: 1.723\n",
      "Epoch [5/30], Loss: 1.698\n",
      "Epoch [6/30], Loss: 1.674\n",
      "Epoch [7/30], Loss: 1.658\n",
      "Epoch [8/30], Loss: 1.639\n",
      "Epoch [9/30], Loss: 1.614\n",
      "Epoch [10/30], Loss: 1.609\n",
      "Epoch [11/30], Loss: 1.592\n",
      "Epoch [12/30], Loss: 1.572\n",
      "Epoch [13/30], Loss: 1.557\n",
      "Epoch [14/30], Loss: 1.546\n",
      "Epoch [15/30], Loss: 1.535\n",
      "Epoch [16/30], Loss: 1.528\n",
      "Epoch [17/30], Loss: 1.519\n",
      "Epoch [18/30], Loss: 1.506\n",
      "Epoch [19/30], Loss: 1.502\n",
      "Epoch [20/30], Loss: 1.497\n",
      "Epoch [21/30], Loss: 1.488\n",
      "Epoch [22/30], Loss: 1.48\n",
      "Epoch [23/30], Loss: 1.474\n",
      "Epoch [24/30], Loss: 1.465\n",
      "Epoch [25/30], Loss: 1.466\n",
      "Epoch [26/30], Loss: 1.459\n",
      "Epoch [27/30], Loss: 1.446\n",
      "Epoch [28/30], Loss: 1.438\n",
      "Epoch [29/30], Loss: 1.442\n",
      "Epoch [30/30], Loss: 1.431\n"
     ]
    }
   ],
   "source": [
    "# Feed training data into the model\n",
    "batch_size = 128\n",
    "train_load = DataLoader(train_set, shuffle=True,  batch_size=batch_size,\n",
    "                        num_workers=4, pin_memory=True, persistent_workers=True)\n",
    "val_load   = DataLoader(val_set,   shuffle=False, batch_size=batch_size,\n",
    "                        num_workers=4, pin_memory=True, persistent_workers=True)\n",
    "cnn = CnnCifar().to(dml)\n",
    "criterion = nn.CrossEntropyLoss().to(dml)\n",
    "optimizer = optim.Adam(cnn.parameters(), lr=0.001)\n",
    "\n",
    "for epoch in range(30):\n",
    "    run_amount = 0\n",
    "    for images, labels in train_load:\n",
    "        images = images.to(memory_format=torch.channels_last).to(dml, non_blocking=True)\n",
    "        labels = labels.to(dml, non_blocking=True)\n",
    "        \n",
    "        optimizer.zero_grad()\n",
    "        outputs = cnn(images)\n",
    "        loss = criterion(outputs, labels)\n",
    "        loss.backward()\n",
    "        optimizer.step()\n",
    "\n",
    "        run_amount += loss.item()\n",
    "    avg_loss = run_amount / len(train_load)\n",
    "    print(f\"Epoch [{epoch+1}/30], Loss: {avg_loss:.4}\")"
   ]
  },
  {
   "cell_type": "code",
   "execution_count": 9,
   "id": "177c21bd-c351-47ed-aef8-b813b22d8df0",
   "metadata": {},
   "outputs": [
    {
     "name": "stdout",
     "output_type": "stream",
     "text": [
      "{'airplane': 0.5320000052452087, 'automobile': 0.6310000419616699, 'bird': 0.36000001430511475, 'cat': 0.2580000162124634, 'deer': 0.4270000159740448, 'dog': 0.6040000319480896, 'frog': 0.5649999976158142, 'horse': 0.5330000519752502, 'ship': 0.6930000185966492, 'truck': 0.6770000457763672}\n",
      "{'airplane': 0.5776330232620239, 'automobile': 0.5679567456245422, 'bird': 0.4306219816207886, 'cat': 0.39570552110671997, 'deer': 0.4776286482810974, 'dog': 0.4125683009624481, 'frog': 0.6907089948654175, 'horse': 0.6056817770004272, 'ship': 0.5867908596992493, 'truck': 0.5446500778198242}\n"
     ]
    }
   ],
   "source": [
    "# Evaluate\n",
    "from torchmetrics import Recall, Precision\n",
    "\n",
    "cnn.eval()\n",
    "metric_recall = Recall(\n",
    "    task = \"multiclass\", num_classes=10, average=None\n",
    ").to(dml)\n",
    "\n",
    "metric_precision = Precision(\n",
    "    task = \"multiclass\", num_classes=10, average=None\n",
    ").to(dml)\n",
    "\n",
    "with torch.no_grad():\n",
    "    for images, labels in val_load:\n",
    "        images = images.to(memory_format=torch.channels_last).to(dml, non_blocking=True)\n",
    "        labels = labels.to(dml, non_blocking=True)\n",
    "\n",
    "        outputs = cnn(images)\n",
    "        _, preds = torch.max(outputs, 1)\n",
    "\n",
    "        metric_recall(preds, labels)\n",
    "        metric_precision(preds, labels)\n",
    "\n",
    "recall = metric_recall.compute()\n",
    "precision = metric_precision.compute()\n",
    "\n",
    "recall_per_class = {\n",
    "    k: recall[v].item()\n",
    "    for k, v\n",
    "    in train_data.data.class_to_idx.items()\n",
    "}\n",
    "\n",
    "precision_per_class = {\n",
    "    k: precision[v].item()\n",
    "    for k, v\n",
    "    in train_data.data.class_to_idx.items()\n",
    "}\n",
    "\n",
    "print(recall_per_class)\n",
    "print(precision_per_class)"
   ]
  },
  {
   "cell_type": "code",
   "execution_count": 11,
   "id": "0537b349-7354-494b-8e32-b163a9d4dc40",
   "metadata": {},
   "outputs": [
    {
     "name": "stdout",
     "output_type": "stream",
     "text": [
      "tensor(0.5242, device='privateuseone:0')\n",
      "tensor(0.5253, device='privateuseone:0')\n"
     ]
    }
   ],
   "source": [
    "metric_recall_weighted = Recall(\n",
    "    task = \"multiclass\", num_classes=10, average='weighted'\n",
    ").to(dml)\n",
    "\n",
    "metric_precision_weighted = Precision(\n",
    "    task = \"multiclass\", num_classes=10, average='weighted'\n",
    ").to(dml)\n",
    "\n",
    "with torch.no_grad():\n",
    "    for images, labels in val_load:\n",
    "        images = images.to(memory_format=torch.channels_last).to(dml, non_blocking=True)\n",
    "        labels = labels.to(dml, non_blocking=True)\n",
    "\n",
    "        outputs = cnn(images)\n",
    "        _, preds = torch.max(outputs, 1)\n",
    "\n",
    "        metric_recall_weighted(preds, labels)\n",
    "        metric_precision_weighted(preds, labels)\n",
    "\n",
    "recall_weighted = metric_recall_weighted.compute()\n",
    "precision_weighted = metric_precision_weighted.compute()\n",
    "print(recall_weighted)\n",
    "print(precision_weighted)"
   ]
  },
  {
   "cell_type": "code",
   "execution_count": 12,
   "id": "aaee6e03-81e4-4497-8684-8fd2a2730b87",
   "metadata": {},
   "outputs": [
    {
     "name": "stdout",
     "output_type": "stream",
     "text": [
      "tensor(0.5270, device='privateuseone:0')\n",
      "tensor(0.5303, device='privateuseone:0')\n"
     ]
    }
   ],
   "source": [
    "metric_recall_macro = Recall(\n",
    "    task = \"multiclass\", num_classes=10, average='macro'\n",
    ").to(dml)\n",
    "\n",
    "metric_precision_macro = Precision(\n",
    "    task = \"multiclass\", num_classes=10, average='macro'\n",
    ").to(dml)\n",
    "\n",
    "with torch.no_grad():\n",
    "    for images, labels in val_load:\n",
    "        images = images.to(memory_format=torch.channels_last).to(dml, non_blocking=True)\n",
    "        labels = labels.to(dml, non_blocking=True)\n",
    "\n",
    "        outputs = cnn(images)\n",
    "        _, preds = torch.max(outputs, 1)\n",
    "\n",
    "        metric_recall_macro(preds, labels)\n",
    "        metric_precision_macro(preds, labels)\n",
    "\n",
    "recall_macro = metric_recall_macro.compute()\n",
    "precision_macro = metric_precision_macro.compute()\n",
    "print(recall_macro)\n",
    "print(precision_macro)"
   ]
  },
  {
   "cell_type": "code",
   "execution_count": null,
   "id": "51626325-53ae-4231-9314-9764cd4457d8",
   "metadata": {},
   "outputs": [],
   "source": [
    "correct = 0\n",
    "total = 0\n",
    "with torch.no_grad():\n",
    "    for images, labels in val_load:\n",
    "        images = images.to(memory_format=torch.channels_last).to(dml, non_blocking=True)\n",
    "        labels = labels.to(dml, non_blocking=True)\n",
    "\n",
    "        outputs = cnn(images)\n",
    "        _, preds = torch.max(outputs, 1)\n",
    "\n",
    "        correct += (pred == labels).sum().item()\n",
    "        total += labels.size(0)\n",
    "    "
   ]
  }
 ],
 "metadata": {
  "kernelspec": {
   "display_name": "Python 3.12 TensorFlow",
   "language": "python",
   "name": "tf_env"
  },
  "language_info": {
   "codemirror_mode": {
    "name": "ipython",
    "version": 3
   },
   "file_extension": ".py",
   "mimetype": "text/x-python",
   "name": "python",
   "nbconvert_exporter": "python",
   "pygments_lexer": "ipython3",
   "version": "3.12.11"
  }
 },
 "nbformat": 4,
 "nbformat_minor": 5
}
